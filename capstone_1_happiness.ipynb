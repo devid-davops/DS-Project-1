{
  "nbformat": 4,
  "nbformat_minor": 0,
  "metadata": {
    "colab": {
      "name": "capstone_1_happiness.ipynb",
      "provenance": [],
      "collapsed_sections": [
        "IDBYRAAgN0cm",
        "p2Y8y2RXNwRM",
        "uT39fkyxpryi",
        "0zMt1J98sLrC",
        "cuWOnLLwzi7g",
        "xeWDIOkqzh0M",
        "BHeIRQW_zhKu",
        "VOE1Np7NjI7d",
        "-JcasRxi0esT",
        "sOXUcUVC0YTw",
        "2dFdvfsSNogN",
        "4TqQ9KUTYgk7"
      ],
      "authorship_tag": "ABX9TyOembondeEdPypGIUTdnV30",
      "include_colab_link": true
    },
    "kernelspec": {
      "name": "python3",
      "display_name": "Python 3"
    }
  },
  "cells": [
    {
      "cell_type": "markdown",
      "metadata": {
        "id": "view-in-github",
        "colab_type": "text"
      },
      "source": [
        "<a href=\"https://colab.research.google.com/github/devid-davops/DS-Project-1/blob/master/capstone_1_happiness.ipynb\" target=\"_parent\"><img src=\"https://colab.research.google.com/assets/colab-badge.svg\" alt=\"Open In Colab\"/></a>"
      ]
    },
    {
      "cell_type": "markdown",
      "metadata": {
        "id": "9d_4mRJOudbF",
        "colab_type": "text"
      },
      "source": [
        "# Researching Global Happiness\n",
        "> _A Data Science project for an experimental design capstone._\n",
        "\n",
        "### David Booker-Earley\n",
        "### 2/12/2020\n",
        "\n",
        "---"
      ]
    },
    {
      "cell_type": "markdown",
      "metadata": {
        "id": "TuUT8PabNfaU",
        "colab_type": "text"
      },
      "source": [
        "# Introduction"
      ]
    },
    {
      "cell_type": "markdown",
      "metadata": {
        "id": "2lvtRzBPdeK0",
        "colab_type": "text"
      },
      "source": [
        "#### The _World Happiness Report (2019)_ provides opportunities for each nation to assess its progress based on the well-being of its citizens using various factors.\n",
        ">For example, economists, policy makers, psychologists, statisticians and others can work more effectively with their respective countries to evaluate and improve economic development, healthcare systems, public policies, and social morale by regularly using happiness indicators with various factors.\n",
        "\n",
        ". . . . . . . . . . . . . . . . . . . . . . . . . . . . . . . . . . . . . . . . . . . . . . . .\n",
        "\n",
        "#### The goal of this project is to determine how five of the six given factors contribute to a country’s happiness.\n",
        "\n",
        ">_Three hypotheses will be tested through data exploration based on the following investigative questions:_\n",
        "1. Does a country's economic production make people happier than having a healthy life expectancy?\n",
        "2. Is a country's perceived corruption related to the overall happiness of its citizens?\n",
        "3. Does having social support make people happier than having the freedom to make life choices?\n",
        "\n",
        ". . . . . . . . . . . . . . . . . . . . . . . . . . . . . . . . . . . . . . . . . . . . . . . .\n",
        "\n",
        "#### The research results for these hypotheses will provide insight to which factors, on average, contribute more to a country’s happiness; as such, the findings might be interesting to the following: \n",
        ">_Economists, engineers, government agencies, policy makers, psychologists, statisticians and anyone who is inherently inquisitive._\n",
        "\n",
        "---"
      ]
    },
    {
      "cell_type": "markdown",
      "metadata": {
        "id": "IDBYRAAgN0cm",
        "colab_type": "text"
      },
      "source": [
        "# Hypotheses"
      ]
    },
    {
      "cell_type": "markdown",
      "metadata": {
        "id": "YqQ6KREg2EBr",
        "colab_type": "text"
      },
      "source": [
        "## Overview\n",
        "#### Null Hypothesis:\n",
        "\n",
        "There is no significant difference between $\\mu_1$ and $\\mu_2$, and thus, $\\mu_1$ is identical to $\\mu_2$.\n",
        "\n",
        "$$H_O : \\mu_1 - \\mu_2 = 0$$\n",
        "\n",
        "#### Alternative Hypothesis: \n",
        "\n",
        "There is a significant difference between $\\mu_1$ and $\\mu_2$.\n",
        "\n",
        "$$H_a : \\mu_1 - \\mu_2 \\neq 0$$\n",
        "\n",
        "\n",
        "<!-- \n",
        "Alternatively, display both equations individually with \"\\begin{equation*}\", or together inside of \"\\begin{align}\" and separated by \"\\\\\" like this:\n",
        "\n",
        "$$\n",
        "\\begin{align}\n",
        "H_O : \\mu_1 - \\mu_2 = 0 \\\\\n",
        "H_a : \\mu_1 - \\mu_2 \\neq 0\n",
        "\\end{align}\n",
        "$$\n",
        "-->\n",
        "\n",
        "\n",
        ">Where $\\mu_1$ is the population mean of the first group, and $\\mu_2$ is the population mean of the second group.\n",
        "\n",
        "---"
      ]
    },
    {
      "cell_type": "markdown",
      "metadata": {
        "id": "r86K--XFb1Ia",
        "colab_type": "text"
      },
      "source": [
        "## Hypotheses to Test\n",
        "\n",
        "#### Given the collected samples, the generic **null** and **alternative** hypotheses are specifically applied in the following manners:\n",
        "\n",
        "**Null Hypotheses**\n",
        "\n",
        ">$H_{O_1}$: On average, there is no significant difference between how the factors `GDP per capita` and `healthy life expectancy` contribute to a country's `overall happiness score`.\n",
        "\n",
        ">$H_{O_2}$: There is no significant relationship between a country's `perceived corruption` and its `overall happiness score`.\n",
        "\n",
        ">$H_{O_3}$: On average, there is no significant difference between how the factors `social support` and `freedom to make life choices` contribute to a country's `overall happiness score`.\n",
        "\n",
        "\n",
        "**Alternative Hypotheses**\n",
        "\n",
        ">$H_{a_1}$: A country's `economic production` makes people happier than having a `healthy life expectancy`.\n",
        "\n",
        ">$H_{a_1}$: A country's `perceived corruption` is related to the `overall happiness` of its citizens.\n",
        "\n",
        ">$H_{a_3}$: Having `social support` makes people happier than having the `freedom to make life choices`."
      ]
    },
    {
      "cell_type": "markdown",
      "metadata": {
        "id": "p2Y8y2RXNwRM",
        "colab_type": "text"
      },
      "source": [
        "# Data Overview"
      ]
    },
    {
      "cell_type": "markdown",
      "metadata": {
        "id": "ptMDKRfrNxuU",
        "colab_type": "text"
      },
      "source": [
        "\n",
        "\n",
        "The `2019 Happiness Data` comes from Kaggle, located [here](https://www.kaggle.com/unsdsn/world-happiness#2019.csv), and shows which countries ranked the highest in overall happiness. It includes 156 countries (rows) and 9 variables (columns), 6 of which are the factors of happiness. \n",
        "* The values for each factor are dimensionless quantities describing the extent to which that factor contributes in the evaluation of a country’s happiness; that is, these values outline the factor’s importance relative to each country, which provides insight to why each country may have a higher or lower rank than others.\n",
        "\n",
        "**Important Observations**\n",
        ">There are no missing values for the given factors of happiness; however, overall, the summation of all 6 factors don't equal the value given in the `Score` field.\n",
        "- Thus, the calculations performed in the `Methods` section will use the provided raw data in lieu of missing variables or ambiguous multipliers, through which, one could replicate the given total `Score` value.\n",
        "\n",
        "---"
      ]
    },
    {
      "cell_type": "code",
      "metadata": {
        "id": "jGiF7UEEkS2a",
        "colab_type": "code",
        "colab": {}
      },
      "source": [
        "import math  # Provides mathematical functions & tools\n",
        "import pandas as pd  # Provides data accessibility & data processing tools\n",
        "import matplotlib.pyplot as plt  # Provides plotting tools\n",
        "import seaborn as sns  # Provides plotting tools\n",
        "from scipy import stats  # Provides mathematical & statistical tools\n",
        "\n",
        "# Ensure the plot-figures are displayed inline\n",
        "%matplotlib inline"
      ],
      "execution_count": 0,
      "outputs": []
    },
    {
      "cell_type": "code",
      "metadata": {
        "id": "zeNThE-pkMyg",
        "colab_type": "code",
        "outputId": "0c877cd2-9ed3-4d03-9414-00580958cb94",
        "colab": {
          "base_uri": "https://localhost:8080/",
          "height": 459
        }
      },
      "source": [
        "## Load and view data\n",
        "link = 'https://raw.githubusercontent.com/devid-davops/DS-Project-1/master/world_happiness_data_2019.csv'\n",
        "df = pd.read_csv(link)\n",
        "\n",
        "df.info()\n",
        "print()\n",
        "df.head()"
      ],
      "execution_count": 0,
      "outputs": [
        {
          "output_type": "stream",
          "text": [
            "<class 'pandas.core.frame.DataFrame'>\n",
            "RangeIndex: 156 entries, 0 to 155\n",
            "Data columns (total 9 columns):\n",
            "Overall rank                    156 non-null int64\n",
            "Country or region               156 non-null object\n",
            "Score                           156 non-null float64\n",
            "GDP per capita                  156 non-null float64\n",
            "Social support                  156 non-null float64\n",
            "Healthy life expectancy         156 non-null float64\n",
            "Freedom to make life choices    156 non-null float64\n",
            "Generosity                      156 non-null float64\n",
            "Perceptions of corruption       156 non-null float64\n",
            "dtypes: float64(7), int64(1), object(1)\n",
            "memory usage: 11.1+ KB\n",
            "\n"
          ],
          "name": "stdout"
        },
        {
          "output_type": "execute_result",
          "data": {
            "text/html": [
              "<div>\n",
              "<style scoped>\n",
              "    .dataframe tbody tr th:only-of-type {\n",
              "        vertical-align: middle;\n",
              "    }\n",
              "\n",
              "    .dataframe tbody tr th {\n",
              "        vertical-align: top;\n",
              "    }\n",
              "\n",
              "    .dataframe thead th {\n",
              "        text-align: right;\n",
              "    }\n",
              "</style>\n",
              "<table border=\"1\" class=\"dataframe\">\n",
              "  <thead>\n",
              "    <tr style=\"text-align: right;\">\n",
              "      <th></th>\n",
              "      <th>Overall rank</th>\n",
              "      <th>Country or region</th>\n",
              "      <th>Score</th>\n",
              "      <th>GDP per capita</th>\n",
              "      <th>Social support</th>\n",
              "      <th>Healthy life expectancy</th>\n",
              "      <th>Freedom to make life choices</th>\n",
              "      <th>Generosity</th>\n",
              "      <th>Perceptions of corruption</th>\n",
              "    </tr>\n",
              "  </thead>\n",
              "  <tbody>\n",
              "    <tr>\n",
              "      <th>0</th>\n",
              "      <td>1</td>\n",
              "      <td>Finland</td>\n",
              "      <td>7.769</td>\n",
              "      <td>1.340</td>\n",
              "      <td>1.587</td>\n",
              "      <td>0.986</td>\n",
              "      <td>0.596</td>\n",
              "      <td>0.153</td>\n",
              "      <td>0.393</td>\n",
              "    </tr>\n",
              "    <tr>\n",
              "      <th>1</th>\n",
              "      <td>2</td>\n",
              "      <td>Denmark</td>\n",
              "      <td>7.600</td>\n",
              "      <td>1.383</td>\n",
              "      <td>1.573</td>\n",
              "      <td>0.996</td>\n",
              "      <td>0.592</td>\n",
              "      <td>0.252</td>\n",
              "      <td>0.410</td>\n",
              "    </tr>\n",
              "    <tr>\n",
              "      <th>2</th>\n",
              "      <td>3</td>\n",
              "      <td>Norway</td>\n",
              "      <td>7.554</td>\n",
              "      <td>1.488</td>\n",
              "      <td>1.582</td>\n",
              "      <td>1.028</td>\n",
              "      <td>0.603</td>\n",
              "      <td>0.271</td>\n",
              "      <td>0.341</td>\n",
              "    </tr>\n",
              "    <tr>\n",
              "      <th>3</th>\n",
              "      <td>4</td>\n",
              "      <td>Iceland</td>\n",
              "      <td>7.494</td>\n",
              "      <td>1.380</td>\n",
              "      <td>1.624</td>\n",
              "      <td>1.026</td>\n",
              "      <td>0.591</td>\n",
              "      <td>0.354</td>\n",
              "      <td>0.118</td>\n",
              "    </tr>\n",
              "    <tr>\n",
              "      <th>4</th>\n",
              "      <td>5</td>\n",
              "      <td>Netherlands</td>\n",
              "      <td>7.488</td>\n",
              "      <td>1.396</td>\n",
              "      <td>1.522</td>\n",
              "      <td>0.999</td>\n",
              "      <td>0.557</td>\n",
              "      <td>0.322</td>\n",
              "      <td>0.298</td>\n",
              "    </tr>\n",
              "  </tbody>\n",
              "</table>\n",
              "</div>"
            ],
            "text/plain": [
              "   Overall rank Country or region  ...  Generosity  Perceptions of corruption\n",
              "0             1           Finland  ...       0.153                      0.393\n",
              "1             2           Denmark  ...       0.252                      0.410\n",
              "2             3            Norway  ...       0.271                      0.341\n",
              "3             4           Iceland  ...       0.354                      0.118\n",
              "4             5       Netherlands  ...       0.322                      0.298\n",
              "\n",
              "[5 rows x 9 columns]"
            ]
          },
          "metadata": {
            "tags": []
          },
          "execution_count": 2
        }
      ]
    },
    {
      "cell_type": "code",
      "metadata": {
        "id": "AbML1J0Poa9T",
        "colab_type": "code",
        "outputId": "e35ae57b-33d0-4e43-ea5e-fd17008d97ee",
        "colab": {
          "base_uri": "https://localhost:8080/",
          "height": 204
        }
      },
      "source": [
        "## View the last several row-entries\n",
        "df.tail()"
      ],
      "execution_count": 0,
      "outputs": [
        {
          "output_type": "execute_result",
          "data": {
            "text/html": [
              "<div>\n",
              "<style scoped>\n",
              "    .dataframe tbody tr th:only-of-type {\n",
              "        vertical-align: middle;\n",
              "    }\n",
              "\n",
              "    .dataframe tbody tr th {\n",
              "        vertical-align: top;\n",
              "    }\n",
              "\n",
              "    .dataframe thead th {\n",
              "        text-align: right;\n",
              "    }\n",
              "</style>\n",
              "<table border=\"1\" class=\"dataframe\">\n",
              "  <thead>\n",
              "    <tr style=\"text-align: right;\">\n",
              "      <th></th>\n",
              "      <th>Overall rank</th>\n",
              "      <th>Country or region</th>\n",
              "      <th>Score</th>\n",
              "      <th>GDP per capita</th>\n",
              "      <th>Social support</th>\n",
              "      <th>Healthy life expectancy</th>\n",
              "      <th>Freedom to make life choices</th>\n",
              "      <th>Generosity</th>\n",
              "      <th>Perceptions of corruption</th>\n",
              "    </tr>\n",
              "  </thead>\n",
              "  <tbody>\n",
              "    <tr>\n",
              "      <th>151</th>\n",
              "      <td>152</td>\n",
              "      <td>Rwanda</td>\n",
              "      <td>3.334</td>\n",
              "      <td>0.359</td>\n",
              "      <td>0.711</td>\n",
              "      <td>0.614</td>\n",
              "      <td>0.555</td>\n",
              "      <td>0.217</td>\n",
              "      <td>0.411</td>\n",
              "    </tr>\n",
              "    <tr>\n",
              "      <th>152</th>\n",
              "      <td>153</td>\n",
              "      <td>Tanzania</td>\n",
              "      <td>3.231</td>\n",
              "      <td>0.476</td>\n",
              "      <td>0.885</td>\n",
              "      <td>0.499</td>\n",
              "      <td>0.417</td>\n",
              "      <td>0.276</td>\n",
              "      <td>0.147</td>\n",
              "    </tr>\n",
              "    <tr>\n",
              "      <th>153</th>\n",
              "      <td>154</td>\n",
              "      <td>Afghanistan</td>\n",
              "      <td>3.203</td>\n",
              "      <td>0.350</td>\n",
              "      <td>0.517</td>\n",
              "      <td>0.361</td>\n",
              "      <td>0.000</td>\n",
              "      <td>0.158</td>\n",
              "      <td>0.025</td>\n",
              "    </tr>\n",
              "    <tr>\n",
              "      <th>154</th>\n",
              "      <td>155</td>\n",
              "      <td>Central African Republic</td>\n",
              "      <td>3.083</td>\n",
              "      <td>0.026</td>\n",
              "      <td>0.000</td>\n",
              "      <td>0.105</td>\n",
              "      <td>0.225</td>\n",
              "      <td>0.235</td>\n",
              "      <td>0.035</td>\n",
              "    </tr>\n",
              "    <tr>\n",
              "      <th>155</th>\n",
              "      <td>156</td>\n",
              "      <td>South Sudan</td>\n",
              "      <td>2.853</td>\n",
              "      <td>0.306</td>\n",
              "      <td>0.575</td>\n",
              "      <td>0.295</td>\n",
              "      <td>0.010</td>\n",
              "      <td>0.202</td>\n",
              "      <td>0.091</td>\n",
              "    </tr>\n",
              "  </tbody>\n",
              "</table>\n",
              "</div>"
            ],
            "text/plain": [
              "     Overall rank  ... Perceptions of corruption\n",
              "151           152  ...                     0.411\n",
              "152           153  ...                     0.147\n",
              "153           154  ...                     0.025\n",
              "154           155  ...                     0.035\n",
              "155           156  ...                     0.091\n",
              "\n",
              "[5 rows x 9 columns]"
            ]
          },
          "metadata": {
            "tags": []
          },
          "execution_count": 3
        }
      ]
    },
    {
      "cell_type": "code",
      "metadata": {
        "id": "f2EWzpI3a-IL",
        "colab_type": "code",
        "outputId": "c215b739-dbe8-4125-84d4-c451d5343d4a",
        "colab": {
          "base_uri": "https://localhost:8080/",
          "height": 221
        }
      },
      "source": [
        "## Are there any missing values?\n",
        "# Missing values can also be confirmed by viewing the \"df.info()\" results.\n",
        "print('Are there any missing (NULL or NAN) values?\\n')\n",
        "print(df.isna().any())"
      ],
      "execution_count": 0,
      "outputs": [
        {
          "output_type": "stream",
          "text": [
            "Are there any missing (NULL or NAN) values?\n",
            "\n",
            "Overall rank                    False\n",
            "Country or region               False\n",
            "Score                           False\n",
            "GDP per capita                  False\n",
            "Social support                  False\n",
            "Healthy life expectancy         False\n",
            "Freedom to make life choices    False\n",
            "Generosity                      False\n",
            "Perceptions of corruption       False\n",
            "dtype: bool\n"
          ],
          "name": "stdout"
        }
      ]
    },
    {
      "cell_type": "markdown",
      "metadata": {
        "id": "uT39fkyxpryi",
        "colab_type": "text"
      },
      "source": [
        "# Methods"
      ]
    },
    {
      "cell_type": "markdown",
      "metadata": {
        "id": "rtSXdOSZBAz7",
        "colab_type": "text"
      },
      "source": [
        "### Steps used to investigate research questions:\n",
        "\n",
        "1. Load and clean the data.\n",
        "2. Calculate the statistics.\n",
        "3. Visualize the data and their statistics.\n",
        "4. Observe and discuss the results."
      ]
    },
    {
      "cell_type": "markdown",
      "metadata": {
        "id": "0zMt1J98sLrC",
        "colab_type": "text"
      },
      "source": [
        "## Preliminary Work"
      ]
    },
    {
      "cell_type": "code",
      "metadata": {
        "id": "8Nu4LsrWpC0-",
        "colab_type": "code",
        "outputId": "106dc782-3e0f-4e7c-b8fa-a1a4f4ba189d",
        "colab": {
          "base_uri": "https://localhost:8080/"
        }
      },
      "source": [
        "## Calculate the actual happiness scores from the raw data\n",
        "\n",
        "# Get a list of all factor names\n",
        "col_list = list(df.keys())  # Alternative:  df.columns.values.tolist()\n",
        "factor_list = col_list[-6:]\n",
        "print(f\"Factor Names: {factor_list}\")\n",
        "\n",
        "# Use a copy of original data to avoid accidental (recursive) manipulation\n",
        "df_2 = df.copy()\n",
        "df_2['Actual Happiness Score'] = df[factor_list].sum(axis=1)\n",
        "#Alternative: df_2 = df.assign(HappinessScore=df[factor_list].sum(axis=1))"
      ],
      "execution_count": 0,
      "outputs": [
        {
          "output_type": "stream",
          "text": [
            "Factor Names: ['GDP per capita', 'Social support', 'Healthy life expectancy', 'Freedom to make life choices', 'Generosity', 'Perceptions of corruption']\n"
          ],
          "name": "stdout"
        }
      ]
    },
    {
      "cell_type": "code",
      "metadata": {
        "id": "yogsbFhSMjmH",
        "colab_type": "code",
        "outputId": "af7c2b4f-3224-487e-d426-1e1e211cbfb3",
        "colab": {
          "base_uri": "https://localhost:8080/"
        }
      },
      "source": [
        "## Preview the changes\n",
        "print('\\n\\nUpdated DataFrame showing actual happiness scores:')\n",
        "df_2.head()"
      ],
      "execution_count": 0,
      "outputs": [
        {
          "output_type": "stream",
          "text": [
            "\n",
            "\n",
            "Updated DataFrame showing actual happiness scores:\n"
          ],
          "name": "stdout"
        },
        {
          "output_type": "execute_result",
          "data": {
            "text/html": [
              "<div>\n",
              "<style scoped>\n",
              "    .dataframe tbody tr th:only-of-type {\n",
              "        vertical-align: middle;\n",
              "    }\n",
              "\n",
              "    .dataframe tbody tr th {\n",
              "        vertical-align: top;\n",
              "    }\n",
              "\n",
              "    .dataframe thead th {\n",
              "        text-align: right;\n",
              "    }\n",
              "</style>\n",
              "<table border=\"1\" class=\"dataframe\">\n",
              "  <thead>\n",
              "    <tr style=\"text-align: right;\">\n",
              "      <th></th>\n",
              "      <th>Overall rank</th>\n",
              "      <th>Country or region</th>\n",
              "      <th>Score</th>\n",
              "      <th>GDP per capita</th>\n",
              "      <th>Social support</th>\n",
              "      <th>Healthy life expectancy</th>\n",
              "      <th>Freedom to make life choices</th>\n",
              "      <th>Generosity</th>\n",
              "      <th>Perceptions of corruption</th>\n",
              "      <th>Actual Happiness Score</th>\n",
              "    </tr>\n",
              "  </thead>\n",
              "  <tbody>\n",
              "    <tr>\n",
              "      <th>0</th>\n",
              "      <td>1</td>\n",
              "      <td>Finland</td>\n",
              "      <td>7.769</td>\n",
              "      <td>1.340</td>\n",
              "      <td>1.587</td>\n",
              "      <td>0.986</td>\n",
              "      <td>0.596</td>\n",
              "      <td>0.153</td>\n",
              "      <td>0.393</td>\n",
              "      <td>5.055</td>\n",
              "    </tr>\n",
              "    <tr>\n",
              "      <th>1</th>\n",
              "      <td>2</td>\n",
              "      <td>Denmark</td>\n",
              "      <td>7.600</td>\n",
              "      <td>1.383</td>\n",
              "      <td>1.573</td>\n",
              "      <td>0.996</td>\n",
              "      <td>0.592</td>\n",
              "      <td>0.252</td>\n",
              "      <td>0.410</td>\n",
              "      <td>5.206</td>\n",
              "    </tr>\n",
              "    <tr>\n",
              "      <th>2</th>\n",
              "      <td>3</td>\n",
              "      <td>Norway</td>\n",
              "      <td>7.554</td>\n",
              "      <td>1.488</td>\n",
              "      <td>1.582</td>\n",
              "      <td>1.028</td>\n",
              "      <td>0.603</td>\n",
              "      <td>0.271</td>\n",
              "      <td>0.341</td>\n",
              "      <td>5.313</td>\n",
              "    </tr>\n",
              "    <tr>\n",
              "      <th>3</th>\n",
              "      <td>4</td>\n",
              "      <td>Iceland</td>\n",
              "      <td>7.494</td>\n",
              "      <td>1.380</td>\n",
              "      <td>1.624</td>\n",
              "      <td>1.026</td>\n",
              "      <td>0.591</td>\n",
              "      <td>0.354</td>\n",
              "      <td>0.118</td>\n",
              "      <td>5.093</td>\n",
              "    </tr>\n",
              "    <tr>\n",
              "      <th>4</th>\n",
              "      <td>5</td>\n",
              "      <td>Netherlands</td>\n",
              "      <td>7.488</td>\n",
              "      <td>1.396</td>\n",
              "      <td>1.522</td>\n",
              "      <td>0.999</td>\n",
              "      <td>0.557</td>\n",
              "      <td>0.322</td>\n",
              "      <td>0.298</td>\n",
              "      <td>5.094</td>\n",
              "    </tr>\n",
              "  </tbody>\n",
              "</table>\n",
              "</div>"
            ],
            "text/plain": [
              "   Overall rank  ... Actual Happiness Score\n",
              "0             1  ...                  5.055\n",
              "1             2  ...                  5.206\n",
              "2             3  ...                  5.313\n",
              "3             4  ...                  5.093\n",
              "4             5  ...                  5.094\n",
              "\n",
              "[5 rows x 10 columns]"
            ]
          },
          "metadata": {
            "tags": []
          },
          "execution_count": 6
        }
      ]
    },
    {
      "cell_type": "code",
      "metadata": {
        "id": "hF8MVOvZpWa9",
        "colab_type": "code",
        "outputId": "1901628a-3a3f-4f06-eac0-07b81e93cd4a",
        "colab": {
          "base_uri": "https://localhost:8080/"
        }
      },
      "source": [
        "df_2.tail()"
      ],
      "execution_count": 0,
      "outputs": [
        {
          "output_type": "execute_result",
          "data": {
            "text/html": [
              "<div>\n",
              "<style scoped>\n",
              "    .dataframe tbody tr th:only-of-type {\n",
              "        vertical-align: middle;\n",
              "    }\n",
              "\n",
              "    .dataframe tbody tr th {\n",
              "        vertical-align: top;\n",
              "    }\n",
              "\n",
              "    .dataframe thead th {\n",
              "        text-align: right;\n",
              "    }\n",
              "</style>\n",
              "<table border=\"1\" class=\"dataframe\">\n",
              "  <thead>\n",
              "    <tr style=\"text-align: right;\">\n",
              "      <th></th>\n",
              "      <th>Overall rank</th>\n",
              "      <th>Country or region</th>\n",
              "      <th>Score</th>\n",
              "      <th>GDP per capita</th>\n",
              "      <th>Social support</th>\n",
              "      <th>Healthy life expectancy</th>\n",
              "      <th>Freedom to make life choices</th>\n",
              "      <th>Generosity</th>\n",
              "      <th>Perceptions of corruption</th>\n",
              "      <th>Actual Happiness Score</th>\n",
              "    </tr>\n",
              "  </thead>\n",
              "  <tbody>\n",
              "    <tr>\n",
              "      <th>151</th>\n",
              "      <td>152</td>\n",
              "      <td>Rwanda</td>\n",
              "      <td>3.334</td>\n",
              "      <td>0.359</td>\n",
              "      <td>0.711</td>\n",
              "      <td>0.614</td>\n",
              "      <td>0.555</td>\n",
              "      <td>0.217</td>\n",
              "      <td>0.411</td>\n",
              "      <td>2.867</td>\n",
              "    </tr>\n",
              "    <tr>\n",
              "      <th>152</th>\n",
              "      <td>153</td>\n",
              "      <td>Tanzania</td>\n",
              "      <td>3.231</td>\n",
              "      <td>0.476</td>\n",
              "      <td>0.885</td>\n",
              "      <td>0.499</td>\n",
              "      <td>0.417</td>\n",
              "      <td>0.276</td>\n",
              "      <td>0.147</td>\n",
              "      <td>2.700</td>\n",
              "    </tr>\n",
              "    <tr>\n",
              "      <th>153</th>\n",
              "      <td>154</td>\n",
              "      <td>Afghanistan</td>\n",
              "      <td>3.203</td>\n",
              "      <td>0.350</td>\n",
              "      <td>0.517</td>\n",
              "      <td>0.361</td>\n",
              "      <td>0.000</td>\n",
              "      <td>0.158</td>\n",
              "      <td>0.025</td>\n",
              "      <td>1.411</td>\n",
              "    </tr>\n",
              "    <tr>\n",
              "      <th>154</th>\n",
              "      <td>155</td>\n",
              "      <td>Central African Republic</td>\n",
              "      <td>3.083</td>\n",
              "      <td>0.026</td>\n",
              "      <td>0.000</td>\n",
              "      <td>0.105</td>\n",
              "      <td>0.225</td>\n",
              "      <td>0.235</td>\n",
              "      <td>0.035</td>\n",
              "      <td>0.626</td>\n",
              "    </tr>\n",
              "    <tr>\n",
              "      <th>155</th>\n",
              "      <td>156</td>\n",
              "      <td>South Sudan</td>\n",
              "      <td>2.853</td>\n",
              "      <td>0.306</td>\n",
              "      <td>0.575</td>\n",
              "      <td>0.295</td>\n",
              "      <td>0.010</td>\n",
              "      <td>0.202</td>\n",
              "      <td>0.091</td>\n",
              "      <td>1.479</td>\n",
              "    </tr>\n",
              "  </tbody>\n",
              "</table>\n",
              "</div>"
            ],
            "text/plain": [
              "     Overall rank  ... Actual Happiness Score\n",
              "151           152  ...                  2.867\n",
              "152           153  ...                  2.700\n",
              "153           154  ...                  1.411\n",
              "154           155  ...                  0.626\n",
              "155           156  ...                  1.479\n",
              "\n",
              "[5 rows x 10 columns]"
            ]
          },
          "metadata": {
            "tags": []
          },
          "execution_count": 7
        }
      ]
    },
    {
      "cell_type": "markdown",
      "metadata": {
        "id": "yJslWN0lsFZJ",
        "colab_type": "text"
      },
      "source": [
        "## The Fun Side of Research"
      ]
    },
    {
      "cell_type": "markdown",
      "metadata": {
        "id": "cuWOnLLwzi7g",
        "colab_type": "text"
      },
      "source": [
        "### 1. Does a country's economic production make people happier than having a healthy life expectancy?"
      ]
    },
    {
      "cell_type": "code",
      "metadata": {
        "id": "-RorBMFZ5t7p",
        "colab_type": "code",
        "outputId": "cf929350-b9f6-42b0-936f-bc4644abfc58",
        "colab": {
          "base_uri": "https://localhost:8080/"
        }
      },
      "source": [
        "## Assign convenient names to variables\n",
        "var_1 = df_2['GDP per capita']\n",
        "var_2 = df_2['Healthy life expectancy']\n",
        "\n",
        "\n",
        "## Calculate descriptive statistics for each variable\n",
        "print(var_1.describe())\n",
        "print('\\n\\n')\n",
        "var_2.describe()"
      ],
      "execution_count": 0,
      "outputs": [
        {
          "output_type": "stream",
          "text": [
            "count    156.000000\n",
            "mean       0.905147\n",
            "std        0.398389\n",
            "min        0.000000\n",
            "25%        0.602750\n",
            "50%        0.960000\n",
            "75%        1.232500\n",
            "max        1.684000\n",
            "Name: GDP per capita, dtype: float64\n",
            "\n",
            "\n",
            "\n"
          ],
          "name": "stdout"
        },
        {
          "output_type": "execute_result",
          "data": {
            "text/plain": [
              "count    156.000000\n",
              "mean       0.725244\n",
              "std        0.242124\n",
              "min        0.000000\n",
              "25%        0.547750\n",
              "50%        0.789000\n",
              "75%        0.881750\n",
              "max        1.141000\n",
              "Name: Healthy life expectancy, dtype: float64"
            ]
          },
          "metadata": {
            "tags": []
          },
          "execution_count": 8
        }
      ]
    },
    {
      "cell_type": "code",
      "metadata": {
        "id": "9rV-RE-CzQef",
        "colab_type": "code",
        "colab": {}
      },
      "source": [
        "## Set default parameters & theme for displays\n",
        "sns.set()"
      ],
      "execution_count": 0,
      "outputs": []
    },
    {
      "cell_type": "code",
      "metadata": {
        "id": "RrbS81wVziQB",
        "colab_type": "code",
        "outputId": "531c7a96-50dd-424a-f490-c0b7f983372e",
        "colab": {
          "base_uri": "https://localhost:8080/"
        }
      },
      "source": [
        "## Visualize sample population distributions\n",
        "plt.figure(figsize=(8,4))\n",
        "bins = 8\n",
        "ax1 = sns.distplot(var_1,\n",
        "                   bins=bins,\n",
        "                   kde=True,  #Plots a kernel density estimate curve\n",
        "                   rug=False,  #Plots a tiny vertical tick per observation\n",
        "                   label='GDP per capita',\n",
        "                   hist_kws={'alpha': 0.5})  #Changes transparency of plot\n",
        "sns.distplot(var_2,\n",
        "             kde=True,\n",
        "             rug=False,\n",
        "             bins=bins,\n",
        "             label='Healthy life expectancy',\n",
        "             hist_kws={'alpha': 0.5},\n",
        "             ax=ax1)\n",
        "plt.legend(loc='upper left', title='Sample Populations', shadow=True)\n",
        "plt.xlabel('Factor Values')\n",
        "plt.ylabel('KDE Frequency')\n",
        "s=\"Figure 1.A - Distributions: Economic Production & Healthy Life Expectancy\"\n",
        "plt.title(s, {'fontsize': 14})\n",
        "plt.show;"
      ],
      "execution_count": 0,
      "outputs": [
        {
          "output_type": "display_data",
          "data": {
            "image/png": "[encoded data removed]",
            "text/plain": [
              "<Figure size 576x288 with 1 Axes>"
            ]
          },
          "metadata": {
            "tags": []
          }
        }
      ]
    },
    {
      "cell_type": "code",
      "metadata": {
        "id": "ReonjOU9xfGt",
        "colab_type": "code",
        "outputId": "1b7a4df0-4d4b-4531-c72a-a6da01a3c359",
        "colab": {
          "base_uri": "https://localhost:8080/"
        }
      },
      "source": [
        "## Visually compare the sample means\n",
        "pp = sns.pointplot(data=[var_1, var_2], join=True)\n",
        "pp.set(xticklabels=['GDP per capita', 'Healthy life expectancy'])\n",
        "s=\"Figure 1.B - Sample Means: Economic Production & Healthy Life Expectancy\"\n",
        "plt.title(s, {'fontsize': 12})\n",
        "plt.show;"
      ],
      "execution_count": 0,
      "outputs": [
        {
          "output_type": "display_data",
          "data": {
            "image/png": "[encoded data removed]",
            "text/plain": [
              "<Figure size 432x288 with 1 Axes>"
            ]
          },
          "metadata": {
            "tags": []
          }
        }
      ]
    },
    {
      "cell_type": "markdown",
      "metadata": {
        "id": "eGiMAlElP4Rf",
        "colab_type": "text"
      },
      "source": [
        "The sample population distributions displayed in **Figure 1.A** outline the spread of factor values. The density spread for each of the two factors show that most values exist between the $0.25$ and $1.5$.\n",
        ">Recall that these values represent a factor's contribution in the evaluation of a country's happiness. The relatively large spike for the `healthy life expectancy` exists between the factor values $0.6$ and $0.8$, which illustrates how common that range is among countries.\n",
        "\n",
        "On average, the contribution of a country's `economic productivity` is higher than that of having a `healthy life expectancy`; this is shown by the comparison of sample means in **Figure 1.B**.\n",
        ">The average value for `GDP per capita` was calculated to be $0.905147$, while the average value for `Healthy life expectancy` was $0.725244$.\n",
        "\n",
        "---"
      ]
    },
    {
      "cell_type": "markdown",
      "metadata": {
        "id": "xeWDIOkqzh0M",
        "colab_type": "text"
      },
      "source": [
        "### 2. Is a country's perceived corruption related to the overall happiness of its citizens?"
      ]
    },
    {
      "cell_type": "code",
      "metadata": {
        "id": "8TZs_SgI9xBT",
        "colab_type": "code",
        "outputId": "64198dc0-b2fb-4f8f-c95a-694ae031f782",
        "colab": {
          "base_uri": "https://localhost:8080/"
        }
      },
      "source": [
        "## Assign convenient names to variables\n",
        "var_3 = df_2['Perceptions of corruption']\n",
        "actual_happy_score = df_2['Actual Happiness Score']\n",
        "\n",
        "\n",
        "## Calculate descriptive statistics for each variable\n",
        "print(var_3.describe())\n",
        "print('\\n\\n')\n",
        "actual_happy_score.describe()"
      ],
      "execution_count": 0,
      "outputs": [
        {
          "output_type": "stream",
          "text": [
            "count    156.000000\n",
            "mean       0.110603\n",
            "std        0.094538\n",
            "min        0.000000\n",
            "25%        0.047000\n",
            "50%        0.085500\n",
            "75%        0.141250\n",
            "max        0.453000\n",
            "Name: Perceptions of corruption, dtype: float64\n",
            "\n",
            "\n",
            "\n"
          ],
          "name": "stdout"
        },
        {
          "output_type": "execute_result",
          "data": {
            "text/plain": [
              "count    156.000000\n",
              "mean       3.527224\n",
              "std        0.980172\n",
              "min        0.626000\n",
              "25%        2.864500\n",
              "50%        3.689000\n",
              "75%        4.208250\n",
              "max        5.456000\n",
              "Name: Actual Happiness Score, dtype: float64"
            ]
          },
          "metadata": {
            "tags": []
          },
          "execution_count": 12
        }
      ]
    },
    {
      "cell_type": "code",
      "metadata": {
        "id": "Ydbw7SSoci5T",
        "colab_type": "code",
        "colab": {}
      },
      "source": [
        "## Set default parameters & theme for displays\n",
        "sns.set()"
      ],
      "execution_count": 0,
      "outputs": []
    },
    {
      "cell_type": "code",
      "metadata": {
        "id": "teGxoCDVkFup",
        "colab_type": "code",
        "outputId": "b79dbb40-6c06-418b-cfb7-326825269a18",
        "colab": {
          "base_uri": "https://localhost:8080/"
        }
      },
      "source": [
        "## Visualize the sample population distributions separately\n",
        "\n",
        "# Actual Happiness Score\n",
        "plt.figure(figsize=(8,4))\n",
        "bins = 10\n",
        "sns.distplot(actual_happy_score,\n",
        "             kde=False,\n",
        "             rug=True,\n",
        "             label='Actual Happiness Scores',\n",
        "             color='blue')\n",
        "plt.legend(loc='upper left', shadow=True)\n",
        "plt.xlabel('Factor Values')\n",
        "plt.ylabel('Frequency')\n",
        "s=\"Figure 2.A - Distribution for Happiness Scores\"\n",
        "plt.title(s, {'fontsize': 12})\n",
        "plt.show;"
      ],
      "execution_count": 0,
      "outputs": [
        {
          "output_type": "display_data",
          "data": {
            "image/png": "[encoded data removed]",
            "text/plain": [
              "<Figure size 576x288 with 1 Axes>"
            ]
          },
          "metadata": {
            "tags": []
          }
        }
      ]
    },
    {
      "cell_type": "code",
      "metadata": {
        "id": "N8o2lQ8Nzjiz",
        "colab_type": "code",
        "outputId": "668d931f-ffce-4a8e-f17f-450841eb5139",
        "colab": {
          "base_uri": "https://localhost:8080/"
        }
      },
      "source": [
        "## Visualize the sample population distributions separately\n",
        "\n",
        "# Perceptions of corruption\n",
        "plt.figure(figsize=(8,4))\n",
        "bins = 10\n",
        "sns.distplot(var_3,\n",
        "             kde=False,\n",
        "             rug=True,\n",
        "             label='Perceptions of corruption',\n",
        "             color='orange')\n",
        "plt.legend(loc='upper right', shadow=True)\n",
        "plt.xlabel('Factor Values')\n",
        "plt.ylabel('Frequency')\n",
        "s=\"Figure 2.B - Distribution for Perceptions of corruption\"\n",
        "plt.title(s, {'fontsize': 12})\n",
        "plt.show;"
      ],
      "execution_count": 0,
      "outputs": [
        {
          "output_type": "display_data",
          "data": {
            "image/png": "[encoded data removed]",
            "text/plain": [
              "<Figure size 576x288 with 1 Axes>"
            ]
          },
          "metadata": {
            "tags": []
          }
        }
      ]
    },
    {
      "cell_type": "code",
      "metadata": {
        "id": "ASOz-Lghftz8",
        "colab_type": "code",
        "outputId": "5107ab3a-532b-4f77-a416-d3f3477a0ac8",
        "colab": {
          "base_uri": "https://localhost:8080/"
        }
      },
      "source": [
        "## Visually compare sample population data\n",
        "plt.figure(figsize=(11,5))\n",
        "sns.scatterplot(x='Perceptions of corruption',\n",
        "                y='Actual Happiness Score',\n",
        "                data=df_2)\n",
        "plt.xlabel('Values for Perceptions of corruption')\n",
        "plt.ylabel('Actual Happiness Score')\n",
        "s=\"Figure 2.C - Happiness vs. Perceptions of Corruption\"\n",
        "plt.title(s)\n",
        "plt.show;"
      ],
      "execution_count": 0,
      "outputs": [
        {
          "output_type": "display_data",
          "data": {
            "image/png": "[encoded data removed]",
            "text/plain": [
              "<Figure size 792x360 with 1 Axes>"
            ]
          },
          "metadata": {
            "tags": []
          }
        }
      ]
    },
    {
      "cell_type": "markdown",
      "metadata": {
        "id": "PIH8uMGWghoA",
        "colab_type": "text"
      },
      "source": [
        "The spread of the `actual overall happiness` data is shown in **Figure 2.A**; most values exist below $4.5$. Simultaneously, the sample population distribution displayed in **Figure 2.B** indicates that most of the surveyed countries didn't consider their respective `perceptions of corruption` to be a major contribution to the `overall happiness` of citizens. \n",
        "* The average value for the `actual happiness score` was calculated to be $3.527224$, while the average value for `perceptions of corruption` was $0.110603$.\n",
        ">With additional inspection, the overall lack of data linearity in **Figure 2.C** also illustrates that `perceived corruption` wasn't significantly related to a country's `happiness score`. \n",
        "\n",
        "\n",
        ". . . . . . . . . . . . . . . . . . . . . . . . . . . . . . . . . . . . . . . . . . . . . . . .\n",
        "\n",
        "\n",
        "#### _Interesting Observations:_\n",
        "* Most `perceived corruption` values that are less than $0.2$ were for countries with `happiness scores` below $4.0$.\n",
        "* Considerable linearity exists after a `perceived corruption` value of $0.2$ (& arguably just after $0.1$) for `happiness scores` above $4.5$.\n",
        "* Almost all `happiness scores` larger than $5.0$ had `perceived corruption` values greater than $0.25$.\n",
        "\n",
        "While `perceptions of corruption` hold the lowest average so far, the aforementioned observations outline an important note: \n",
        ">Most of the highest-ranking countries evaluated `perceived corruption` as more of a contribution to `overall happiness` than the extent to which lower ranking countries had evaluated.\n",
        "\n",
        "---"
      ]
    },
    {
      "cell_type": "markdown",
      "metadata": {
        "id": "BHeIRQW_zhKu",
        "colab_type": "text"
      },
      "source": [
        "### 3. Does having social support make people happier than having the freedom to make life choices?\n",
        "\n",
        "  - Is there a significant difference between the two population means?\n",
        "  - Is the social support value, on average, higher than that of having the freedom to make life choices?"
      ]
    },
    {
      "cell_type": "code",
      "metadata": {
        "id": "5hUMnzw1XyJc",
        "colab_type": "code",
        "outputId": "813512d0-d8cd-4155-d096-4369e60d86bf",
        "colab": {
          "base_uri": "https://localhost:8080/"
        }
      },
      "source": [
        "var_4 = df_2['Social support']\n",
        "var_5 = df_2['Freedom to make life choices']\n",
        "\n",
        "\n",
        "## Calculate descriptive statistics for each variable\n",
        "print(var_4.describe())\n",
        "print('\\n\\n')\n",
        "var_5.describe()"
      ],
      "execution_count": 0,
      "outputs": [
        {
          "output_type": "stream",
          "text": [
            "count    156.000000\n",
            "mean       1.208814\n",
            "std        0.299191\n",
            "min        0.000000\n",
            "25%        1.055750\n",
            "50%        1.271500\n",
            "75%        1.452500\n",
            "max        1.624000\n",
            "Name: Social support, dtype: float64\n",
            "\n",
            "\n",
            "\n"
          ],
          "name": "stdout"
        },
        {
          "output_type": "execute_result",
          "data": {
            "text/plain": [
              "count    156.000000\n",
              "mean       0.392571\n",
              "std        0.143289\n",
              "min        0.000000\n",
              "25%        0.308000\n",
              "50%        0.417000\n",
              "75%        0.507250\n",
              "max        0.631000\n",
              "Name: Freedom to make life choices, dtype: float64"
            ]
          },
          "metadata": {
            "tags": []
          },
          "execution_count": 17
        }
      ]
    },
    {
      "cell_type": "code",
      "metadata": {
        "id": "N7jlSLYeZ_KG",
        "colab_type": "code",
        "outputId": "0c115790-3873-40d3-bdbc-8a006c51ba37",
        "colab": {
          "base_uri": "https://localhost:8080/"
        }
      },
      "source": [
        "## Perform a t-test to formally compare the sample means\n",
        "stats.ttest_ind(var_4, var_5)\n",
        "\n",
        "\n",
        "## Provide the Confidence Interval (CI) along with the p-value to provide\n",
        "#  both statistical (p) and substantive (CI) measures."
      ],
      "execution_count": 0,
      "outputs": [
        {
          "output_type": "execute_result",
          "data": {
            "text/plain": [
              "Ttest_indResult(statistic=30.73210125606325, pvalue=4.142244084525088e-96)"
            ]
          },
          "metadata": {
            "tags": []
          },
          "execution_count": 18
        }
      ]
    },
    {
      "cell_type": "code",
      "metadata": {
        "id": "zICDHr5XdZAg",
        "colab_type": "code",
        "colab": {}
      },
      "source": [
        "def get_95_ci(array_1, array_2):\n",
        "  \"\"\"\n",
        "  Returns the calculated 95% Confidence Interval for the difference in\n",
        "  means of the two input arrays.\n",
        "  \"\"\"\n",
        "  sample_1_n = array_1.shape[0]\n",
        "  sample_2_n = array_2.shape[0]\n",
        "  sample_1_mean = array_1.mean()\n",
        "  sample_2_mean = array_2.mean()\n",
        "  sample_1_var = array_1.var()\n",
        "  sample_2_var = array_2.var()\n",
        "  mean_difference = sample_1_mean - sample_2_mean\n",
        "  std_err_difference = math.sqrt((sample_1_var/sample_1_n) + (sample_2_var/sample_2_n))\n",
        "  margin_of_error = 1.96 * std_err_difference\n",
        "  ci_lower = mean_difference - margin_of_error\n",
        "  ci_upper = mean_difference + margin_of_error\n",
        "  return(f\"The difference in means at the 95% Confidence Interval (two-tail) is between {ci_lower :.2f} and {ci_upper :.2f}.\")"
      ],
      "execution_count": 0,
      "outputs": []
    },
    {
      "cell_type": "code",
      "metadata": {
        "id": "N_xsws5tiulY",
        "colab_type": "code",
        "outputId": "02e95551-497c-490d-cb47-384f2f267d52",
        "colab": {
          "base_uri": "https://localhost:8080/"
        }
      },
      "source": [
        "## Calculate the 95% Confidence Interval\n",
        "print(get_95_ci(var_4, var_5))"
      ],
      "execution_count": 0,
      "outputs": [
        {
          "output_type": "stream",
          "text": [
            "The difference in means at the 95% Confidence Interval (two-tail) is between 0.76 and 0.87.\n"
          ],
          "name": "stdout"
        }
      ]
    },
    {
      "cell_type": "code",
      "metadata": {
        "id": "L--oD8bdY0xX",
        "colab_type": "code",
        "colab": {}
      },
      "source": [
        "## Set default parameters & theme for displays\n",
        "sns.set()"
      ],
      "execution_count": 0,
      "outputs": []
    },
    {
      "cell_type": "code",
      "metadata": {
        "id": "81o2E_u1aAjM",
        "colab_type": "code",
        "outputId": "c7d369cd-4ded-4906-cf6b-62da66786b7b",
        "colab": {
          "base_uri": "https://localhost:8080/"
        }
      },
      "source": [
        "## Visually compare the sample means\n",
        "pp = sns.pointplot(data=[var_4, var_5], join=True)\n",
        "pp.set(xticklabels=['Social support', 'Freedom to make life choices'])\n",
        "s=\"Figure 3.A - Sample Means: Social Support & Making Choices\"\n",
        "plt.title(s, {'fontsize': 12})\n",
        "plt.show;"
      ],
      "execution_count": 0,
      "outputs": [
        {
          "output_type": "display_data",
          "data": {
            "image/png": "[encoded data removed]",
            "text/plain": [
              "<Figure size 432x288 with 1 Axes>"
            ]
          },
          "metadata": {
            "tags": []
          }
        }
      ]
    },
    {
      "cell_type": "markdown",
      "metadata": {
        "id": "wQiC3eOGkAZe",
        "colab_type": "text"
      },
      "source": [
        "The independent `t-test` shows that there is a significant statistical difference between the two means, and calculated a considerably small `p-value` (on the order of $10^{-96}$). The conclusive evidence from this formal test, along with the respective averages, are illustrated by the point-comparison of sample means in **Figure 3.A**; the calculated average value for `social support` was $1.208814$, while the average for `freedom to make life choices` was $0.392571$. \n",
        "\n",
        "\n",
        ">These results can be interpreted as the following remarks:\n",
        "- Even if the population means are identical (i.e., if the null hypothesis is true), there is a $<< 0.001$% chance of obtaining the observed statistical difference.\n",
        "- With $95$% confidence, _the true difference in the population means_ is expected to exist between $0.76$ and $0.87$ based on the samples collected.\n",
        "- On average, the contribution of having `social support` is higher than that of having `freedom to make life choices`.\n",
        "\n",
        "---"
      ]
    },
    {
      "cell_type": "markdown",
      "metadata": {
        "id": "VOE1Np7NjI7d",
        "colab_type": "text"
      },
      "source": [
        "#### Notes for Formulas"
      ]
    },
    {
      "cell_type": "markdown",
      "metadata": {
        "id": "RSZS1n0r8wtM",
        "colab_type": "text"
      },
      "source": [
        ">**Assumptions for using the** `t-test`\n",
        "\n",
        "1. The test variable is continuous.\n",
        "2. There is no relationship between items; that is, the measurement of one observation does not affect the measurement of another.\n",
        "3. Samples are drawn at random for each population.\n",
        "4. The test variable’s samples and populations are approximately normally distributed.\n",
        "5. Reasonably large enough samples were collected to be representative of the population.\n",
        "6. Variances are approximately equal in both the sample and population.\n",
        "\n",
        "\n",
        "---"
      ]
    },
    {
      "cell_type": "markdown",
      "metadata": {
        "id": "4RCxWa9YJdLR",
        "colab_type": "text"
      },
      "source": [
        ">Formula used to perform the `t-test`\n",
        "\n",
        "$$\n",
        "t = \\frac{\\bar x_1 - \\bar x_2}{\\sqrt{\\frac{s_1^2}{n_1} + \\frac{s_2^2}{n_2}}}\n",
        "$$\n",
        "\n",
        "\n",
        "<!-- Alternatively, use:\n",
        "\\begin{equation*}\n",
        "\\bar{x} ..\n",
        "\\end{equation*} -->\n",
        "\n",
        "Where:\n",
        "* $\\bar x_1$ is the `mean` of the first sample set\n",
        "* $\\bar x_2$ is the `mean` of the second sample set\n",
        "* $s_1$ is the `standard deviation` of the first sample set\n",
        "* $s_2$ is the `standard deviation` of the second sample set\n",
        "* $n_1$ is the `sample size` of the first sample set\n",
        "* $n_2$ is the `sample size` of the second sample set\n",
        "\n",
        "\n",
        "---"
      ]
    },
    {
      "cell_type": "markdown",
      "metadata": {
        "id": "West9vK8_ZDP",
        "colab_type": "text"
      },
      "source": [
        ">Result thresholds for the `t-test`\n",
        "\n",
        "* At the $95$% Confidence Interval (two-tail)\n",
        "  * The critical value for the `test statistic` is $\\mp 1.96$\n",
        "  * The critical value for the `p-value` is $0.05$ or $5$%\n",
        "\n",
        "  \n",
        "  ---"
      ]
    },
    {
      "cell_type": "markdown",
      "metadata": {
        "id": "CceaseH8D5zZ",
        "colab_type": "text"
      },
      "source": [
        ">Formula used to calculate the $95$% Confidence Interval\n",
        "\n",
        "$$\n",
        "\\bar x_1 - \\bar x_2 \\mp 1.96 * \\sqrt{\\frac{s_1^2}{n_1} + \\frac{s_2^2}{n_2}}\n",
        "$$\n",
        "\n",
        "\n",
        "<!-- Alternatively, use:\n",
        "\\begin{equation*}\n",
        "\\bar{x} ..\n",
        "\\end{equation*} -->\n",
        "\n",
        "Where:\n",
        "* $\\bar x_1$ is the `mean` of the first sample set\n",
        "* $\\bar x_2$ is the `mean` of the second sample set\n",
        "* $s_1$ is the `standard deviation` of the first sample set\n",
        "* $s_2$ is the `standard deviation` of the second sample set\n",
        "* $n_1$ is the `sample size` of the first sample set\n",
        "* $n_2$ is the `sample size` of the second sample set\n",
        "\n",
        "\n",
        "---"
      ]
    },
    {
      "cell_type": "markdown",
      "metadata": {
        "id": "SyF9gzOU4pqF",
        "colab_type": "text"
      },
      "source": [
        "# Results"
      ]
    },
    {
      "cell_type": "markdown",
      "metadata": {
        "id": "-JcasRxi0esT",
        "colab_type": "text"
      },
      "source": [
        "## What happened with the Hypotheses?"
      ]
    },
    {
      "cell_type": "markdown",
      "metadata": {
        "id": "MlDvY0Iz1LeM",
        "colab_type": "text"
      },
      "source": [
        "#### 1. `Economic productivity` was, on average, more valuable to a country than having a `healthy life expectancy`; thus, the exploration of the given data yields the following conclusion:\n",
        ">_Reject the first null hypothesis and accept the first alternative._\n",
        "\n",
        ". . . . . . . . . . . . . . . . . . . . . . . . . . . . . . . . . . . . . . . . . . . . . . . .\n",
        "\n",
        "#### 2. Overall, `perceptions of corruption` wasn't considered to be a significant contribution to the `overall happiness`; thus, the exploration of the given data yields the following conclusion:\n",
        ">_Fail to reject the second null hypothesis and reject the second alternative._\n",
        "\n",
        ". . . . . . . . . . . . . . . . . . . . . . . . . . . . . . . . . . . . . . . . . . . . . . . .\n",
        "\n",
        "#### 3. `Social support` contributed to `overall happiness` more significantly than the `freedom to make life choices`; thus, the exploration of the given data yields the following conclusion:\n",
        ">_Reject the third null hypothesis and accept the third alternative._\n"
      ]
    },
    {
      "cell_type": "markdown",
      "metadata": {
        "id": "sOXUcUVC0YTw",
        "colab_type": "text"
      },
      "source": [
        "## Data Recap"
      ]
    },
    {
      "cell_type": "code",
      "metadata": {
        "id": "Mxhy4goT4Mt3",
        "colab_type": "code",
        "outputId": "d4aba927-9dfa-4ff7-f5e7-c054df474e7e",
        "colab": {
          "base_uri": "https://localhost:8080/"
        }
      },
      "source": [
        "## Summarize the sample population mean for each of the six factors\n",
        "print(\"Sample population mean per factor, sorted from greatest to least:\")\n",
        "print()\n",
        "df_2[factor_list].mean().sort_values(ascending=False)"
      ],
      "execution_count": 0,
      "outputs": [
        {
          "output_type": "stream",
          "text": [
            "Sample population mean per factor, sorted from greatest to least:\n",
            "\n"
          ],
          "name": "stdout"
        },
        {
          "output_type": "execute_result",
          "data": {
            "text/plain": [
              "Social support                  1.208814\n",
              "GDP per capita                  0.905147\n",
              "Healthy life expectancy         0.725244\n",
              "Freedom to make life choices    0.392571\n",
              "Generosity                      0.184846\n",
              "Perceptions of corruption       0.110603\n",
              "dtype: float64"
            ]
          },
          "metadata": {
            "tags": []
          },
          "execution_count": 23
        }
      ]
    },
    {
      "cell_type": "code",
      "metadata": {
        "id": "9S0Mgdvw1oIj",
        "colab_type": "code",
        "outputId": "1b14ab32-5314-4141-b687-bab97a34eb30",
        "colab": {
          "base_uri": "https://localhost:8080/"
        }
      },
      "source": [
        "## Summarize the sample population mean for raw happiness scores \n",
        "# Display up to 6 decimal values to match output-format of other averages\n",
        "print(\"Sample population mean for actual happiness scores:\")\n",
        "print(f\"{actual_happy_score.mean() :.6f}\")"
      ],
      "execution_count": 0,
      "outputs": [
        {
          "output_type": "stream",
          "text": [
            "Sample population mean for actual happiness scores:\n",
            "3.527224\n"
          ],
          "name": "stdout"
        }
      ]
    },
    {
      "cell_type": "code",
      "metadata": {
        "id": "hexT-Ppcu9ZD",
        "colab_type": "code",
        "outputId": "c06448a4-79c5-4156-c07f-1c77d09d19bc",
        "colab": {
          "base_uri": "https://localhost:8080/"
        }
      },
      "source": [
        "## Display Top 5 Ranks\n",
        "df_top_5 = df_2[['Overall rank', 'Country or region']].head()\n",
        "df_top_5.set_index('Overall rank', inplace=True)\n",
        "\n",
        "print(\"Top 5 countries having the highest happiness scores:\")\n",
        "df_top_5"
      ],
      "execution_count": 0,
      "outputs": [
        {
          "output_type": "stream",
          "text": [
            "Top 5 countries having the highest happiness scores:\n"
          ],
          "name": "stdout"
        },
        {
          "output_type": "execute_result",
          "data": {
            "text/html": [
              "<div>\n",
              "<style scoped>\n",
              "    .dataframe tbody tr th:only-of-type {\n",
              "        vertical-align: middle;\n",
              "    }\n",
              "\n",
              "    .dataframe tbody tr th {\n",
              "        vertical-align: top;\n",
              "    }\n",
              "\n",
              "    .dataframe thead th {\n",
              "        text-align: right;\n",
              "    }\n",
              "</style>\n",
              "<table border=\"1\" class=\"dataframe\">\n",
              "  <thead>\n",
              "    <tr style=\"text-align: right;\">\n",
              "      <th></th>\n",
              "      <th>Country or region</th>\n",
              "    </tr>\n",
              "    <tr>\n",
              "      <th>Overall rank</th>\n",
              "      <th></th>\n",
              "    </tr>\n",
              "  </thead>\n",
              "  <tbody>\n",
              "    <tr>\n",
              "      <th>1</th>\n",
              "      <td>Finland</td>\n",
              "    </tr>\n",
              "    <tr>\n",
              "      <th>2</th>\n",
              "      <td>Denmark</td>\n",
              "    </tr>\n",
              "    <tr>\n",
              "      <th>3</th>\n",
              "      <td>Norway</td>\n",
              "    </tr>\n",
              "    <tr>\n",
              "      <th>4</th>\n",
              "      <td>Iceland</td>\n",
              "    </tr>\n",
              "    <tr>\n",
              "      <th>5</th>\n",
              "      <td>Netherlands</td>\n",
              "    </tr>\n",
              "  </tbody>\n",
              "</table>\n",
              "</div>"
            ],
            "text/plain": [
              "             Country or region\n",
              "Overall rank                  \n",
              "1                      Finland\n",
              "2                      Denmark\n",
              "3                       Norway\n",
              "4                      Iceland\n",
              "5                  Netherlands"
            ]
          },
          "metadata": {
            "tags": []
          },
          "execution_count": 25
        }
      ]
    },
    {
      "cell_type": "code",
      "metadata": {
        "id": "tS2M5Ixpvwri",
        "colab_type": "code",
        "outputId": "0e59ddb3-0140-47bb-a4f5-0062235c077b",
        "colab": {
          "base_uri": "https://localhost:8080/"
        }
      },
      "source": [
        "## Display Bottom 5 Ranks\n",
        "df_bottom_5 = df_2[['Overall rank', 'Country or region']].tail()\n",
        "df_bottom_5.set_index('Overall rank', inplace=True)\n",
        "\n",
        "print(\"Bottom 5 countries having the lowest happiness scores:\")\n",
        "df_bottom_5"
      ],
      "execution_count": 0,
      "outputs": [
        {
          "output_type": "stream",
          "text": [
            "Bottom 5 countries having the lowest happiness scores:\n"
          ],
          "name": "stdout"
        },
        {
          "output_type": "execute_result",
          "data": {
            "text/html": [
              "<div>\n",
              "<style scoped>\n",
              "    .dataframe tbody tr th:only-of-type {\n",
              "        vertical-align: middle;\n",
              "    }\n",
              "\n",
              "    .dataframe tbody tr th {\n",
              "        vertical-align: top;\n",
              "    }\n",
              "\n",
              "    .dataframe thead th {\n",
              "        text-align: right;\n",
              "    }\n",
              "</style>\n",
              "<table border=\"1\" class=\"dataframe\">\n",
              "  <thead>\n",
              "    <tr style=\"text-align: right;\">\n",
              "      <th></th>\n",
              "      <th>Country or region</th>\n",
              "    </tr>\n",
              "    <tr>\n",
              "      <th>Overall rank</th>\n",
              "      <th></th>\n",
              "    </tr>\n",
              "  </thead>\n",
              "  <tbody>\n",
              "    <tr>\n",
              "      <th>152</th>\n",
              "      <td>Rwanda</td>\n",
              "    </tr>\n",
              "    <tr>\n",
              "      <th>153</th>\n",
              "      <td>Tanzania</td>\n",
              "    </tr>\n",
              "    <tr>\n",
              "      <th>154</th>\n",
              "      <td>Afghanistan</td>\n",
              "    </tr>\n",
              "    <tr>\n",
              "      <th>155</th>\n",
              "      <td>Central African Republic</td>\n",
              "    </tr>\n",
              "    <tr>\n",
              "      <th>156</th>\n",
              "      <td>South Sudan</td>\n",
              "    </tr>\n",
              "  </tbody>\n",
              "</table>\n",
              "</div>"
            ],
            "text/plain": [
              "                     Country or region\n",
              "Overall rank                          \n",
              "152                             Rwanda\n",
              "153                           Tanzania\n",
              "154                        Afghanistan\n",
              "155           Central African Republic\n",
              "156                        South Sudan"
            ]
          },
          "metadata": {
            "tags": []
          },
          "execution_count": 26
        }
      ]
    },
    {
      "cell_type": "markdown",
      "metadata": {
        "id": "2dFdvfsSNogN",
        "colab_type": "text"
      },
      "source": [
        "# Discussion"
      ]
    },
    {
      "cell_type": "markdown",
      "metadata": {
        "id": "CRvrB6gdJTE4",
        "colab_type": "text"
      },
      "source": [
        "#### Interested parties can use these research results to gain insight to _which countries are ranked as the happiest_, along with _which factors, on average, contribute most to a country’s happiness_.\n",
        "* Out of the 156 surveyed countries or regions, **Finland** had the highest `happiness score` while **South Sudan** had the lowest for 2019.\n",
        "* On average, `social support` contributed the most to a country's `overall happiness`; the average value for `GDP per capita` and `healthy life expectancy` were the second and third highest, respectively; and `perceptions of corruption` contributed the least with respect to the six factors evaluated.\n",
        "\n",
        "> Although `perceived corruption` wasn't considered to be a significant factor overall, it's important to note that most of the highest-ranking countries considered it to be more of a contribution relative to the lower ranking countries.\n",
        "\n",
        "\n",
        ". . . . . . . . . . . . . . . . . . . . . . . . . . . . . . . . . . . . . . . . . . . . . . . .\n"
      ]
    },
    {
      "cell_type": "markdown",
      "metadata": {
        "id": "Jm_drWHJhTm5",
        "colab_type": "text"
      },
      "source": [
        "#### Further research is needed to see how and why countries may fall or rise in the ranks over several years. The combined research results would enable interested parties to make research-driven decisions and track the progress of implementation.\n",
        ">Knowing how high-ranking countries maintain happiness while achieving progress would help interested parties do, for example, the following:\n",
        "* Identify new ways to improve social morale.\n",
        "* Distinguish alternatives for healthier life-balances (exercise, diet, work-play, etc.).\n",
        "  * Simultaneously, data from these actions would provide more insight to how `happier citizens` can improve `overall productivity` between various businesses locally and internationally.\n",
        "* Explore innovative solutions to mitigate persisting challenges (emissions, energy sources, extreme weather and wildfires, healthcare, pollution, poverty, recycling, distribution of wealth, etc.).\n",
        "\n",
        "---"
      ]
    },
    {
      "cell_type": "markdown",
      "metadata": {
        "id": "4TqQ9KUTYgk7",
        "colab_type": "text"
      },
      "source": [
        "## Other Considerations"
      ]
    },
    {
      "cell_type": "markdown",
      "metadata": {
        "id": "eNEJDdkXNunN",
        "colab_type": "text"
      },
      "source": [
        "### Insight into Observed Differences\n",
        "* `Economic productivity over healthy life expectancy`\n",
        "  * Based on modern-day circumstances, having sufficient `economic productivity` is one of the prerequisites for any country's progress and overall survival; especially if, for example, a country is either **A)** experiencing a difficult time (disasters, extreme weather, recession, etc.), **B)** trying to minimize conflict (internally or externally), or **C)** trying to improve the overall quality of life.\n",
        "\n",
        "* `Social support over freedom to make life choices`\n",
        "  * There are other variables that might explain the difference between these two factors.\n",
        "    * For example, someone who is either **A)** struggling financially and has few options for progress, or **B)** satisfied with their job but not with their social life (work-play balance) might value having `social support` differently from having the `freedom to make life choices` based on their respective circumstances.\n",
        "    * The `freedom to make life choices` factor values from some countries might be related to each country's **accessibility of opportunity**; that is, a country's ability to give all citizens equally unobstructed opportunity to freely make choices for improvement throughout life.\n",
        "\n",
        ">Also,\n",
        "* People who are susceptible to poor health, various societal constructs, and economic setbacks (discrimination, poverty, recession, etc.) might view each of the survey's factors differently than other citizens.\n",
        "* How would happiness be evaluated based on how each country treats diseases, illnesses, and trauma? Similarly, how does each country affect (approach, exacerbate, mitigate, or view) the well-being of its depressed citizens?\n",
        "* Developing a good metric for measuring how relatively depressed people are in each country could be a difficult task; however, by using other happiness indicators with other variables, clarity might take the form of several noticeable patterns.\n",
        "\n",
        "\n",
        ". . . . . . . . . . . . . . . . . . . . . . . . . . . . . . . . . . . . . . . . . . . . . . . .\n"
      ]
    },
    {
      "cell_type": "markdown",
      "metadata": {
        "id": "-HRqYAMEg898",
        "colab_type": "text"
      },
      "source": [
        "### Other Variables\n",
        "* Evaluating `overall happiness` by tracking other variables, such as the following, could help outline patterns between happier, healthier, and more successful countries:\n",
        "  * Group 1 Variables: Data Overviews\n",
        "    * _Employment rates_\n",
        "    * _Famine rates_\n",
        "    * _Homelessness rates_\n",
        "    * _Medical outbreaks per unit of time_\n",
        "    * _Poverty rates_\n",
        "    * _Technological or scientific developments per unit of time_\n",
        "    * _Treaties or disputes with other nations_\n",
        "\n",
        "  * Group 2 Variables: Data from Individuals\n",
        "    * _Satisfaction with occupation or financial status_\n",
        "    * _Accessibility of \"opportunities to make life choices for improvement\"_\n",
        "    * _Other health factors (like various types of depression or trauma)_\n",
        "\n",
        "\n",
        ". . . . . . . . . . . . . . . . . . . . . . . . . . . . . . . . . . . . . . . . . . . . . . . .\n"
      ]
    },
    {
      "cell_type": "markdown",
      "metadata": {
        "id": "lmDnaHXzg4Uk",
        "colab_type": "text"
      },
      "source": [
        "### Recommended Updates for Data Collection\n",
        "\n",
        "According to [Kaggle](https://www.kaggle.com/unsdsn/world-happiness), `happiness scores and rankings use data from the Gallup World Poll.` However, the survey's implementation is unclear. For future data collection processes, tracking some or all of the following items could help avoid adverse effects in data analysis and interpretation:\n",
        "* Diversity\n",
        "  * _Who was surveyed; were they selected at random (activist, civil workers, doctors, educators, engineers, government officials, musicians, parents, politicians, researchers, students, etc.)?_\n",
        "* Duration\n",
        "  * _At which time of the year were surveys given and submitted / completed, respectively?_\n",
        "* Quality\n",
        "  * _How were the surveys distributed (via email, in person, phone, etc.)?_\n",
        "* Quantity\n",
        "  * _How many people were surveyed to represent the desired population?_ \n",
        "\n",
        ">These questions outline how the sample population may differ from the desired (actual) population, along with secondary metrics that could provide insight into the observed differences. Without knowing the answers to these questions, it's unclear how one could test for either _observer bias_ and _sampling / selection bias_.\n",
        "\n",
        "---\n"
      ]
    },
    {
      "cell_type": "markdown",
      "metadata": {
        "id": "qu8nU37FgYyf",
        "colab_type": "text"
      },
      "source": [
        "## Next Steps for Further Research\n",
        "\n",
        "1. Test the same hypotheses for data from other years (2015, 2016, etc.).\n",
        "2. Calculate and examine correlations between various factors.\n",
        "\n",
        ">For the highest-ranking and lowest-ranking countries, respectively:\n",
        "3. Determine how factor values changed over time.\n",
        "4. Outline the trend or oscillations of a country's overall rank.\n",
        "5. Research various aspects of how daily-life differs (perhaps using the variables and secondary metrics mentioned earlier).\n",
        "6. Based on those research results, discuss how effective each country is at improving its overall happiness; perhaps relate it to interesting patterns observed (like with healthcare, technological developments, work-life balance, etc.).\n"
      ]
    }
  ]
}